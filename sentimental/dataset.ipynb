{
 "cells": [
  {
   "cell_type": "code",
   "execution_count": null,
   "metadata": {},
   "outputs": [
    {
     "name": "stderr",
     "output_type": "stream",
     "text": [
      "/root/repo/Informer2020/env/lib/python3.10/site-packages/tqdm/auto.py:21: TqdmWarning: IProgress not found. Please update jupyter and ipywidgets. See https://ipywidgets.readthedocs.io/en/stable/user_install.html\n",
      "  from .autonotebook import tqdm as notebook_tqdm\n"
     ]
    },
    {
     "name": "stdout",
     "output_type": "stream",
     "text": [
      "Downloading from https://www.kaggle.com/api/v1/datasets/download/frankossai/apple-stock-aapl-historical-financial-news-data?dataset_version_number=1...\n"
     ]
    },
    {
     "name": "stderr",
     "output_type": "stream",
     "text": [
      "100%|██████████| 34.3M/34.3M [00:00<00:00, 53.6MB/s]"
     ]
    },
    {
     "name": "stdout",
     "output_type": "stream",
     "text": [
      "Extracting files...\n"
     ]
    },
    {
     "name": "stderr",
     "output_type": "stream",
     "text": [
      "\n"
     ]
    },
    {
     "name": "stdout",
     "output_type": "stream",
     "text": [
      "Path to dataset files: /root/.cache/kagglehub/datasets/frankossai/apple-stock-aapl-historical-financial-news-data/versions/1\n"
     ]
    }
   ],
   "source": [
    "import kagglehub\n",
    "path = kagglehub.dataset_download(\"frankossai/apple-stock-aapl-historical-financial-news-data\")\n",
    "print(\"Path to dataset files:\", path)"
   ]
  },
  {
   "cell_type": "code",
   "execution_count": 1,
   "metadata": {},
   "outputs": [
    {
     "data": {
      "text/plain": [
       "(29752, 10)"
      ]
     },
     "execution_count": 1,
     "metadata": {},
     "output_type": "execute_result"
    }
   ],
   "source": [
    "import pandas as pd\n",
    "data = pd.read_csv(\"1/apple_news_data.csv\")\n",
    "data.shape"
   ]
  },
  {
   "cell_type": "code",
   "execution_count": 11,
   "metadata": {},
   "outputs": [
    {
     "name": "stderr",
     "output_type": "stream",
     "text": [
      "/tmp/ipykernel_2141060/3875609974.py:3: UserWarning: Could not infer format, so each element will be parsed individually, falling back to `dateutil`. To ensure parsing is consistent and as-expected, please specify a format.\n",
      "  data['date'] = pd.to_datetime(data['date']).dt.strftime('%m-%d-%y')\n"
     ]
    },
    {
     "name": "stdout",
     "output_type": "stream",
     "text": [
      "           date  sentiment_class\n",
      "0      11-27-24            0.000\n",
      "1      11-26-24            0.000\n",
      "2      11-26-24            0.000\n",
      "3      11-26-24            0.000\n",
      "4      11-26-24            0.000\n",
      "...         ...              ...\n",
      "29747  01-31-18            0.045\n",
      "29748  11-30-17            0.153\n",
      "29749  11-27-17            0.057\n",
      "29750  10-05-17            0.059\n",
      "29751  02-19-16            0.085\n",
      "\n",
      "[29752 rows x 2 columns]\n"
     ]
    }
   ],
   "source": [
    "import pandas as pd\n",
    "\n",
    "data['date'] = pd.to_datetime(data['date']).dt.strftime('%m-%d-%y')\n",
    "\n",
    "def classify_sentiment(row):\n",
    "    return row['sentiment_pos'] - row['sentiment_neg']\n",
    "\n",
    "data['sentiment_class'] = data.apply(classify_sentiment, axis=1)\n",
    "\n",
    "# 只保留 date 和 sentiment_class 两列\n",
    "result = data[['date', 'sentiment_class']]\n",
    "\n",
    "print(result)"
   ]
  },
  {
   "cell_type": "code",
   "execution_count": 15,
   "metadata": {},
   "outputs": [],
   "source": [
    "df1 = pd.read_csv(\"/root/repo/Informer2020/sentimental/sentiment.csv\")\n",
    "df2 = pd.read_csv(\"/root/repo/Informer2020/data_cleaned/apple_stock.csv\")\n",
    "df2['date'] = pd.to_datetime(df2['date']).dt.strftime('%m-%d-%y')\n",
    "\n",
    "merged_df = pd.merge(df1, df2, on='date', how='inner')\n"
   ]
  },
  {
   "cell_type": "code",
   "execution_count": 17,
   "metadata": {},
   "outputs": [],
   "source": [
    "merged_df.to_csv(\"sentiment_apple_stock.csv\", index=False)"
   ]
  },
  {
   "cell_type": "code",
   "execution_count": 6,
   "metadata": {},
   "outputs": [],
   "source": [
    "# Load model directly\n",
    "from transformers import AutoTokenizer, AutoModelForSequenceClassification\n",
    "\n",
    "tokenizer = AutoTokenizer.from_pretrained(\"mrm8488/distilroberta-finetuned-financial-news-sentiment-analysis\")\n",
    "model = AutoModelForSequenceClassification.from_pretrained(\"mrm8488/distilroberta-finetuned-financial-news-sentiment-analysis\")"
   ]
  },
  {
   "cell_type": "code",
   "execution_count": 8,
   "metadata": {},
   "outputs": [
    {
     "name": "stdout",
     "output_type": "stream",
     "text": [
      "Predicted sentiment: Positive (Probability: 0.9995)\n"
     ]
    }
   ],
   "source": [
    "import torch\n",
    "import torch.nn.functional as F\n",
    "text = \"The company's revenue exceeded expectations, leading to a surge in stock prices.\"\n",
    "\n",
    "inputs = tokenizer(text, return_tensors=\"pt\", truncation=True, padding=True)\n",
    "\n",
    "with torch.no_grad():\n",
    "    outputs = model(**inputs)\n",
    "\n",
    "logits = outputs.logits\n",
    "\n",
    "probs = F.softmax(logits, dim=-1)\n",
    "\n",
    "# 获取预测类别（0: Negative, 1: Neutral, 2: Positive）\n",
    "predicted_class = torch.argmax(probs, dim=-1).item()\n",
    "labels = [\"Negative\", \"Neutral\", \"Positive\"]\n",
    "\n",
    "print(f\"Predicted sentiment: {labels[predicted_class]} (Probability: {probs[0][predicted_class]:.4f})\")"
   ]
  },
  {
   "cell_type": "code",
   "execution_count": 16,
   "metadata": {},
   "outputs": [],
   "source": [
    "part_data = data.iloc[:10, :]\n",
    "\n",
    "def analyze_sentiment(text):\n",
    "    if pd.isna(text):  # 处理缺失值\n",
    "        return {\"Negative\": 0.0, \"Neutral\": 0.0, \"Positive\": 0.0}  # 返回默认概率\n",
    "    # Tokenize the text\n",
    "    inputs = tokenizer(text, return_tensors=\"pt\", truncation=True, padding=True)\n",
    "    with torch.no_grad():\n",
    "        outputs = model(**inputs)\n",
    "    logits = outputs.logits\n",
    "    probs = F.softmax(logits, dim=-1).squeeze()  # 概率值\n",
    "    labels = [\"Negative\", \"Neutral\", \"Positive\"]\n",
    "    return {label: prob.item() for label, prob in zip(labels, probs)}\n",
    "\n",
    "# 对所有 content 列进行情感分析并分成多个列\n",
    "sentiment_results = part_data.iloc[:1000, :]['content'].apply(analyze_sentiment)\n",
    "\n",
    "# 转换结果为 DataFrame\n",
    "sentiment_df = pd.DataFrame(list(sentiment_results))\n",
    "\n",
    "# 合并到原始 DataFrame\n",
    "part_data = pd.concat([part_data, sentiment_df.rename(columns={\n",
    "    \"Negative\": \"pred_negative\", \n",
    "    \"Neutral\": \"pred_neutral\", \n",
    "    \"Positive\": \"pred_positive\"\n",
    "})], axis=1)"
   ]
  },
  {
   "cell_type": "code",
   "execution_count": 18,
   "metadata": {},
   "outputs": [],
   "source": [
    "part_data['date'] = pd.to_datetime(part_data['date']).dt.strftime('%m-%d-%y')"
   ]
  },
  {
   "cell_type": "code",
   "execution_count": 20,
   "metadata": {},
   "outputs": [],
   "source": [
    "data['date'] = pd.to_datetime(data['date']).dt.strftime('%m-%d-%y')"
   ]
  },
  {
   "cell_type": "code",
   "execution_count": 22,
   "metadata": {},
   "outputs": [
    {
     "name": "stdout",
     "output_type": "stream",
     "text": [
      "            date                                              title  \\\n",
      "0     2024-11-27  Berkshire Stock Hits Record Even as Company Re...   \n",
      "1     2024-11-26                      What Is a Stock Market Index?   \n",
      "2     2024-11-26  Could Investing $1,000 in Apple Make You a Mil...   \n",
      "3     2024-11-26                       Dow Jones Industrial Average   \n",
      "4     2024-11-26                         What Is the S&P 500 Index?   \n",
      "...          ...                                                ...   \n",
      "29736 2019-04-16  LEAD PLAINTIFF DEADLINE ALERT: Faruqi & Faruqi...   \n",
      "29737 2019-04-01  Report: Developing Opportunities within Apple,...   \n",
      "29738 2019-02-22  Factors of Influence in 2019, Key Indicators a...   \n",
      "29739 2019-01-03  SHAREHOLDER ALERT: Bronstein, Gewirtz & Grossm...   \n",
      "29740 2019-01-03  Apple, AAPL Investment Losses Alert: Bernstein...   \n",
      "\n",
      "                                                 content  \\\n",
      "0      Warren Buffett’s caution, his advancing age, a...   \n",
      "1                          What Is a Stock Market Index?   \n",
      "2      Could Investing $1,000 in Apple Make You a Mil...   \n",
      "3                           Dow Jones Industrial Average   \n",
      "4                             What Is the S&P 500 Index?   \n",
      "...                                                  ...   \n",
      "29736  NEW YORK, April  16, 2019  (GLOBE NEWSWIRE) --...   \n",
      "29737  NEW YORK, April  01, 2019  (GLOBE NEWSWIRE) --...   \n",
      "29738  NEW YORK, Feb.  22, 2019  (GLOBE NEWSWIRE) -- ...   \n",
      "29739  NEW YORK, Jan.  03, 2019  (GLOBE NEWSWIRE) -- ...   \n",
      "29740  NEW YORK, Jan.  02, 2019  (GLOBE NEWSWIRE) -- ...   \n",
      "\n",
      "                                                    link  \\\n",
      "0      https://finance.yahoo.com/m/f5df3aa4-364b-31d6...   \n",
      "1      https://www.fool.com/investing/stock-market/in...   \n",
      "2      https://www.fool.com/investing/2024/11/26/coul...   \n",
      "3      https://www.fool.com/investing/stock-market/in...   \n",
      "4      https://www.fool.com/investing/stock-market/in...   \n",
      "...                                                  ...   \n",
      "29736  https://www.globenewswire.com/news-release/201...   \n",
      "29737  https://www.globenewswire.com/news-release/201...   \n",
      "29738  https://www.globenewswire.com/news-release/201...   \n",
      "29739  https://www.globenewswire.com/news-release/201...   \n",
      "29740  https://www.globenewswire.com/news-release/201...   \n",
      "\n",
      "                                                 symbols  \\\n",
      "0      0R2V.IL, AAPL.BA, AAPL.MX, AAPL.NEO, AAPL.SN, ...   \n",
      "1                              AAPL.US, AMZN.US, MSFT.US   \n",
      "2                                                AAPL.US   \n",
      "3      AAPL.US, AMGN.US, AMZN.US, CSCO.US, GOOG.US, G...   \n",
      "4      AAPL.US, AMZN.US, GOOG.US, GOOGL.US, META.US, ...   \n",
      "...                                                  ...   \n",
      "29736                                            AAPL.US   \n",
      "29737  AAPL.US, CHTR.US, DLTR.US, DSW.US, OLED.US, RE...   \n",
      "29738  AAPL.US, CBAY.US, FTK.US, GVA.US, IMGN.US, UAL.US   \n",
      "29739                                            AAPL.US   \n",
      "29740                                            AAPL.US   \n",
      "\n",
      "                                                   tags  sentiment_polarity  \\\n",
      "0                                                   NaN               0.000   \n",
      "1                                                   NaN               0.000   \n",
      "2                                                   NaN               0.000   \n",
      "3                                                   NaN               0.000   \n",
      "4                                                   NaN               0.000   \n",
      "...                                                 ...                 ...   \n",
      "29736                 CLASS ACTION, FARUQI & FARUQI LLP               0.906   \n",
      "29737                CAPITAL REVIEW, INVESTMENT OPINION               0.994   \n",
      "29738           FUNDAMENTAL MARKETS, INVESTMENT OPINION               0.997   \n",
      "29739  BRONSTEIN, CLASS ACTION, GEWIRTZ & GROSSMAN, LLC               0.967   \n",
      "29740              BERNSTEIN LIEBHARD LLP, CLASS ACTION               0.992   \n",
      "\n",
      "       sentiment_neg  sentiment_neu  sentiment_pos  \n",
      "0              0.000          1.000          0.000  \n",
      "1              0.000          1.000          0.000  \n",
      "2              0.000          1.000          0.000  \n",
      "3              0.000          1.000          0.000  \n",
      "4              0.000          1.000          0.000  \n",
      "...              ...            ...            ...  \n",
      "29736          0.062          0.855          0.083  \n",
      "29737          0.008          0.943          0.049  \n",
      "29738          0.009          0.928          0.064  \n",
      "29739          0.050          0.839          0.111  \n",
      "29740          0.038          0.816          0.147  \n",
      "\n",
      "[29741 rows x 10 columns]\n"
     ]
    }
   ],
   "source": [
    "data['date'] = pd.to_datetime(data['date'], format='%m-%d-%y')\n",
    "\n",
    "start_date = \"2019-01-01\"\n",
    "end_date = \"2024-12-31\"\n",
    "filtered_data = data[(data['date'] >= start_date) & (data['date'] <= end_date)]\n",
    "\n",
    "# 打印结果\n",
    "print(filtered_data)"
   ]
  },
  {
   "cell_type": "code",
   "execution_count": 23,
   "metadata": {},
   "outputs": [
    {
     "data": {
      "text/plain": [
       "(29752, 10)"
      ]
     },
     "execution_count": 23,
     "metadata": {},
     "output_type": "execute_result"
    }
   ],
   "source": [
    "data.shape"
   ]
  },
  {
   "cell_type": "code",
   "execution_count": 25,
   "metadata": {},
   "outputs": [
    {
     "data": {
      "text/html": [
       "<div>\n",
       "<style scoped>\n",
       "    .dataframe tbody tr th:only-of-type {\n",
       "        vertical-align: middle;\n",
       "    }\n",
       "\n",
       "    .dataframe tbody tr th {\n",
       "        vertical-align: top;\n",
       "    }\n",
       "\n",
       "    .dataframe thead th {\n",
       "        text-align: right;\n",
       "    }\n",
       "</style>\n",
       "<table border=\"1\" class=\"dataframe\">\n",
       "  <thead>\n",
       "    <tr style=\"text-align: right;\">\n",
       "      <th></th>\n",
       "      <th>date</th>\n",
       "      <th>title</th>\n",
       "      <th>content</th>\n",
       "      <th>link</th>\n",
       "      <th>symbols</th>\n",
       "      <th>tags</th>\n",
       "      <th>sentiment_polarity</th>\n",
       "      <th>sentiment_neg</th>\n",
       "      <th>sentiment_neu</th>\n",
       "      <th>sentiment_pos</th>\n",
       "    </tr>\n",
       "  </thead>\n",
       "  <tbody>\n",
       "    <tr>\n",
       "      <th>29736</th>\n",
       "      <td>2019-04-16</td>\n",
       "      <td>LEAD PLAINTIFF DEADLINE ALERT: Faruqi &amp; Faruqi...</td>\n",
       "      <td>NEW YORK, April  16, 2019  (GLOBE NEWSWIRE) --...</td>\n",
       "      <td>https://www.globenewswire.com/news-release/201...</td>\n",
       "      <td>AAPL.US</td>\n",
       "      <td>CLASS ACTION, FARUQI &amp; FARUQI LLP</td>\n",
       "      <td>0.906</td>\n",
       "      <td>0.062</td>\n",
       "      <td>0.855</td>\n",
       "      <td>0.083</td>\n",
       "    </tr>\n",
       "    <tr>\n",
       "      <th>29737</th>\n",
       "      <td>2019-04-01</td>\n",
       "      <td>Report: Developing Opportunities within Apple,...</td>\n",
       "      <td>NEW YORK, April  01, 2019  (GLOBE NEWSWIRE) --...</td>\n",
       "      <td>https://www.globenewswire.com/news-release/201...</td>\n",
       "      <td>AAPL.US, CHTR.US, DLTR.US, DSW.US, OLED.US, RE...</td>\n",
       "      <td>CAPITAL REVIEW, INVESTMENT OPINION</td>\n",
       "      <td>0.994</td>\n",
       "      <td>0.008</td>\n",
       "      <td>0.943</td>\n",
       "      <td>0.049</td>\n",
       "    </tr>\n",
       "    <tr>\n",
       "      <th>29738</th>\n",
       "      <td>2019-02-22</td>\n",
       "      <td>Factors of Influence in 2019, Key Indicators a...</td>\n",
       "      <td>NEW YORK, Feb.  22, 2019  (GLOBE NEWSWIRE) -- ...</td>\n",
       "      <td>https://www.globenewswire.com/news-release/201...</td>\n",
       "      <td>AAPL.US, CBAY.US, FTK.US, GVA.US, IMGN.US, UAL.US</td>\n",
       "      <td>FUNDAMENTAL MARKETS, INVESTMENT OPINION</td>\n",
       "      <td>0.997</td>\n",
       "      <td>0.009</td>\n",
       "      <td>0.928</td>\n",
       "      <td>0.064</td>\n",
       "    </tr>\n",
       "    <tr>\n",
       "      <th>29739</th>\n",
       "      <td>2019-01-03</td>\n",
       "      <td>SHAREHOLDER ALERT: Bronstein, Gewirtz &amp; Grossm...</td>\n",
       "      <td>NEW YORK, Jan.  03, 2019  (GLOBE NEWSWIRE) -- ...</td>\n",
       "      <td>https://www.globenewswire.com/news-release/201...</td>\n",
       "      <td>AAPL.US</td>\n",
       "      <td>BRONSTEIN, CLASS ACTION, GEWIRTZ &amp; GROSSMAN, LLC</td>\n",
       "      <td>0.967</td>\n",
       "      <td>0.050</td>\n",
       "      <td>0.839</td>\n",
       "      <td>0.111</td>\n",
       "    </tr>\n",
       "    <tr>\n",
       "      <th>29740</th>\n",
       "      <td>2019-01-03</td>\n",
       "      <td>Apple, AAPL Investment Losses Alert: Bernstein...</td>\n",
       "      <td>NEW YORK, Jan.  02, 2019  (GLOBE NEWSWIRE) -- ...</td>\n",
       "      <td>https://www.globenewswire.com/news-release/201...</td>\n",
       "      <td>AAPL.US</td>\n",
       "      <td>BERNSTEIN LIEBHARD LLP, CLASS ACTION</td>\n",
       "      <td>0.992</td>\n",
       "      <td>0.038</td>\n",
       "      <td>0.816</td>\n",
       "      <td>0.147</td>\n",
       "    </tr>\n",
       "  </tbody>\n",
       "</table>\n",
       "</div>"
      ],
      "text/plain": [
       "            date                                              title  \\\n",
       "29736 2019-04-16  LEAD PLAINTIFF DEADLINE ALERT: Faruqi & Faruqi...   \n",
       "29737 2019-04-01  Report: Developing Opportunities within Apple,...   \n",
       "29738 2019-02-22  Factors of Influence in 2019, Key Indicators a...   \n",
       "29739 2019-01-03  SHAREHOLDER ALERT: Bronstein, Gewirtz & Grossm...   \n",
       "29740 2019-01-03  Apple, AAPL Investment Losses Alert: Bernstein...   \n",
       "\n",
       "                                                 content  \\\n",
       "29736  NEW YORK, April  16, 2019  (GLOBE NEWSWIRE) --...   \n",
       "29737  NEW YORK, April  01, 2019  (GLOBE NEWSWIRE) --...   \n",
       "29738  NEW YORK, Feb.  22, 2019  (GLOBE NEWSWIRE) -- ...   \n",
       "29739  NEW YORK, Jan.  03, 2019  (GLOBE NEWSWIRE) -- ...   \n",
       "29740  NEW YORK, Jan.  02, 2019  (GLOBE NEWSWIRE) -- ...   \n",
       "\n",
       "                                                    link  \\\n",
       "29736  https://www.globenewswire.com/news-release/201...   \n",
       "29737  https://www.globenewswire.com/news-release/201...   \n",
       "29738  https://www.globenewswire.com/news-release/201...   \n",
       "29739  https://www.globenewswire.com/news-release/201...   \n",
       "29740  https://www.globenewswire.com/news-release/201...   \n",
       "\n",
       "                                                 symbols  \\\n",
       "29736                                            AAPL.US   \n",
       "29737  AAPL.US, CHTR.US, DLTR.US, DSW.US, OLED.US, RE...   \n",
       "29738  AAPL.US, CBAY.US, FTK.US, GVA.US, IMGN.US, UAL.US   \n",
       "29739                                            AAPL.US   \n",
       "29740                                            AAPL.US   \n",
       "\n",
       "                                                   tags  sentiment_polarity  \\\n",
       "29736                 CLASS ACTION, FARUQI & FARUQI LLP               0.906   \n",
       "29737                CAPITAL REVIEW, INVESTMENT OPINION               0.994   \n",
       "29738           FUNDAMENTAL MARKETS, INVESTMENT OPINION               0.997   \n",
       "29739  BRONSTEIN, CLASS ACTION, GEWIRTZ & GROSSMAN, LLC               0.967   \n",
       "29740              BERNSTEIN LIEBHARD LLP, CLASS ACTION               0.992   \n",
       "\n",
       "       sentiment_neg  sentiment_neu  sentiment_pos  \n",
       "29736          0.062          0.855          0.083  \n",
       "29737          0.008          0.943          0.049  \n",
       "29738          0.009          0.928          0.064  \n",
       "29739          0.050          0.839          0.111  \n",
       "29740          0.038          0.816          0.147  "
      ]
     },
     "execution_count": 25,
     "metadata": {},
     "output_type": "execute_result"
    }
   ],
   "source": [
    "filtered_data.tail()"
   ]
  },
  {
   "cell_type": "code",
   "execution_count": 31,
   "metadata": {},
   "outputs": [
    {
     "data": {
      "image/png": "[encoded data removed]",
      "text/plain": [
       "<Figure size 800x600 with 1 Axes>"
      ]
     },
     "metadata": {},
     "output_type": "display_data"
    }
   ],
   "source": [
    "import pandas as pd\n",
    "import matplotlib.pyplot as plt\n",
    "\n",
    "filtered_data = data\n",
    "# 确保 date 列为 datetime 格式\n",
    "filtered_data['date'] = pd.to_datetime(filtered_data['date'])\n",
    "\n",
    "# 按年份统计新闻数量\n",
    "yearly_counts = filtered_data['date'].dt.year.value_counts().sort_index()\n",
    "\n",
    "# 绘制柱状图\n",
    "plt.figure(figsize=(8, 6))\n",
    "yearly_counts.plot(kind='bar')\n",
    "\n",
    "# 添加图表标题和标签\n",
    "plt.title(\"Distribution of News by Year\", fontsize=14)\n",
    "plt.xlabel(\"Year\", fontsize=12)\n",
    "plt.ylabel(\"Number of News Articles\", fontsize=12)\n",
    "plt.xticks(rotation=45)\n",
    "plt.grid(axis='y', linestyle='--', alpha=0.7)\n",
    "\n",
    "# 显示图表\n",
    "plt.tight_layout()\n",
    "plt.show()"
   ]
  },
  {
   "cell_type": "code",
   "execution_count": 37,
   "metadata": {},
   "outputs": [],
   "source": [
    "data = pd.read_csv(\"/root/repo/Informer2020/sentimental/filtered_data.csv\")"
   ]
  },
  {
   "cell_type": "code",
   "execution_count": 65,
   "metadata": {},
   "outputs": [
    {
     "name": "stderr",
     "output_type": "stream",
     "text": [
      "Analyzing sentiments: 100%|██████████| 2/2 [00:07<00:00,  3.90s/it]\n",
      "Building sentiment dictionary: 100%|██████████| 2/2 [00:00<00:00, 1053.85it/s]"
     ]
    },
    {
     "name": "stdout",
     "output_type": "stream",
     "text": [
      "{'2024-11-26 00:00:00': [7.950251892907545e-05, 0.9998781681060791, 4.2362902604509145e-05], '2024-11-27 00:00:00': [0.9424451589584351, 0.05208266153931618, 0.005472205113619566]}\n"
     ]
    },
    {
     "name": "stderr",
     "output_type": "stream",
     "text": [
      "\n"
     ]
    }
   ],
   "source": [
    "import pandas as pd\n",
    "from tqdm import tqdm\n",
    "import torch\n",
    "import torch.nn.functional as F\n",
    "from transformers import AutoTokenizer, AutoModelForSequenceClassification\n",
    "\n",
    "# 加载数据\n",
    "data = pd.read_csv(\"1/apple_news_data.csv\")\n",
    "data = data.iloc[:5]  # 示例数据\n",
    "data['date'] = pd.to_datetime(data['date']).dt.strftime('%m-%d-%y')\n",
    "data['date'] = pd.to_datetime(data['date'], format='%m-%d-%y')\n",
    "\n",
    "# 筛选日期范围\n",
    "start_date = \"2019-01-01\"\n",
    "end_date = \"2024-12-31\"\n",
    "filtered_data = data[(data['date'] >= start_date) & (data['date'] <= end_date)]\n",
    "\n",
    "# 去重：按日期保留第一条记录\n",
    "filtered_data = filtered_data.drop_duplicates(subset=['date'], keep='first')\n",
    "\n",
    "# 加载模型和分词器\n",
    "tokenizer = AutoTokenizer.from_pretrained(\"mrm8488/distilroberta-finetuned-financial-news-sentiment-analysis\")\n",
    "model = AutoModelForSequenceClassification.from_pretrained(\"mrm8488/distilroberta-finetuned-financial-news-sentiment-analysis\")\n",
    "model.eval()\n",
    "\n",
    "# 情感分析函数：返回每个类别的概率\n",
    "def analyze_sentiment(text):\n",
    "    if pd.isna(text):\n",
    "        return [0.0, 1.0, 0.0]  # 默认值：Neutral 的概率为 1\n",
    "    inputs = tokenizer(text, return_tensors=\"pt\", truncation=True, padding=True)\n",
    "    with torch.no_grad():\n",
    "        outputs = model(**inputs)\n",
    "    logits = outputs.logits\n",
    "    probs = F.softmax(logits, dim=-1).squeeze().tolist()  # 转换为列表\n",
    "    return probs  # 返回 [Negative, Neutral, Positive] 的概率\n",
    "\n",
    "# 显式循环处理每一行\n",
    "predicted_probabilities = []\n",
    "for _, row in tqdm(filtered_data.iterrows(), total=len(filtered_data), desc=\"Analyzing sentiments\"):\n",
    "    probabilities = analyze_sentiment(row['content'])\n",
    "    predicted_probabilities.append(probabilities)\n",
    "\n",
    "# 将概率拆分为三列并添加到 DataFrame\n",
    "filtered_data[['pred_negative', 'pred_neutral', 'pred_positive']] = pd.DataFrame(predicted_probabilities, index=filtered_data.index)\n",
    "\n",
    "# 构建日期 -> 情感分布字典：累积每个类别的概率\n",
    "sentiment_dict = {}\n",
    "for date, group in tqdm(filtered_data.groupby('date'), desc=\"Building sentiment dictionary\"):\n",
    "    total_negative = group['pred_negative'].sum()\n",
    "    total_neutral = group['pred_neutral'].sum()\n",
    "    total_positive = group['pred_positive'].sum()\n",
    "    sentiment_dict[str(date)] = [total_negative, total_neutral, total_positive]\n",
    "\n",
    "# 打印结果\n",
    "print(sentiment_dict)"
   ]
  },
  {
   "cell_type": "code",
   "execution_count": null,
   "metadata": {},
   "outputs": [],
   "source": []
  }
 ],
 "metadata": {
  "kernelspec": {
   "display_name": "env",
   "language": "python",
   "name": "python3"
  },
  "language_info": {
   "codemirror_mode": {
    "name": "ipython",
    "version": 3
   },
   "file_extension": ".py",
   "mimetype": "text/x-python",
   "name": "python",
   "nbconvert_exporter": "python",
   "pygments_lexer": "ipython3",
   "version": "3.10.13"
  }
 },
 "nbformat": 4,
 "nbformat_minor": 2
}
